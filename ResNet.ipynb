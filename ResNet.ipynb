{
  "nbformat": 4,
  "nbformat_minor": 0,
  "metadata": {
    "colab": {
      "name": "ResNet.ipynb",
      "provenance": [],
      "authorship_tag": "ABX9TyPbZEUw6TblJZq4Qx0Y1bV/",
      "include_colab_link": true
    },
    "kernelspec": {
      "name": "python3",
      "display_name": "Python 3"
    },
    "language_info": {
      "name": "python"
    },
    "widgets": {
      "application/vnd.jupyter.widget-state+json": {
        "27a66802e12d4c6da0e250ce29a54ab3": {
          "model_module": "@jupyter-widgets/controls",
          "model_name": "HBoxModel",
          "state": {
            "_view_name": "HBoxView",
            "_dom_classes": [],
            "_model_name": "HBoxModel",
            "_view_module": "@jupyter-widgets/controls",
            "_model_module_version": "1.5.0",
            "_view_count": null,
            "_view_module_version": "1.5.0",
            "box_style": "",
            "layout": "IPY_MODEL_e27d2563f74f477cbdd4a2581ae2b1cf",
            "_model_module": "@jupyter-widgets/controls",
            "children": [
              "IPY_MODEL_189560dfce974005bbb5ce33609e4ccd",
              "IPY_MODEL_fb89291dcff64846b5b5d83988babe86"
            ]
          }
        },
        "e27d2563f74f477cbdd4a2581ae2b1cf": {
          "model_module": "@jupyter-widgets/base",
          "model_name": "LayoutModel",
          "state": {
            "_view_name": "LayoutView",
            "grid_template_rows": null,
            "right": null,
            "justify_content": null,
            "_view_module": "@jupyter-widgets/base",
            "overflow": null,
            "_model_module_version": "1.2.0",
            "_view_count": null,
            "flex_flow": null,
            "width": null,
            "min_width": null,
            "border": null,
            "align_items": null,
            "bottom": null,
            "_model_module": "@jupyter-widgets/base",
            "top": null,
            "grid_column": null,
            "overflow_y": null,
            "overflow_x": null,
            "grid_auto_flow": null,
            "grid_area": null,
            "grid_template_columns": null,
            "flex": null,
            "_model_name": "LayoutModel",
            "justify_items": null,
            "grid_row": null,
            "max_height": null,
            "align_content": null,
            "visibility": null,
            "align_self": null,
            "height": null,
            "min_height": null,
            "padding": null,
            "grid_auto_rows": null,
            "grid_gap": null,
            "max_width": null,
            "order": null,
            "_view_module_version": "1.2.0",
            "grid_template_areas": null,
            "object_position": null,
            "object_fit": null,
            "grid_auto_columns": null,
            "margin": null,
            "display": null,
            "left": null
          }
        },
        "189560dfce974005bbb5ce33609e4ccd": {
          "model_module": "@jupyter-widgets/controls",
          "model_name": "FloatProgressModel",
          "state": {
            "_view_name": "ProgressView",
            "style": "IPY_MODEL_90e61913049d4536b8bb5329423db817",
            "_dom_classes": [],
            "description": "",
            "_model_name": "FloatProgressModel",
            "bar_style": "success",
            "max": 2640397119,
            "_view_module": "@jupyter-widgets/controls",
            "_model_module_version": "1.5.0",
            "value": 2640397119,
            "_view_count": null,
            "_view_module_version": "1.5.0",
            "orientation": "horizontal",
            "min": 0,
            "description_tooltip": null,
            "_model_module": "@jupyter-widgets/controls",
            "layout": "IPY_MODEL_a85c2b0d95cb4ec39d8637bf98393372"
          }
        },
        "fb89291dcff64846b5b5d83988babe86": {
          "model_module": "@jupyter-widgets/controls",
          "model_name": "HTMLModel",
          "state": {
            "_view_name": "HTMLView",
            "style": "IPY_MODEL_c214821ec4294977a204a4814a8f5474",
            "_dom_classes": [],
            "description": "",
            "_model_name": "HTMLModel",
            "placeholder": "​",
            "_view_module": "@jupyter-widgets/controls",
            "_model_module_version": "1.5.0",
            "value": " 2640397312/? [05:53&lt;00:00, 7466873.39it/s]",
            "_view_count": null,
            "_view_module_version": "1.5.0",
            "description_tooltip": null,
            "_model_module": "@jupyter-widgets/controls",
            "layout": "IPY_MODEL_62ef960e1bdc4da7a51764814e8c4e7e"
          }
        },
        "90e61913049d4536b8bb5329423db817": {
          "model_module": "@jupyter-widgets/controls",
          "model_name": "ProgressStyleModel",
          "state": {
            "_view_name": "StyleView",
            "_model_name": "ProgressStyleModel",
            "description_width": "initial",
            "_view_module": "@jupyter-widgets/base",
            "_model_module_version": "1.5.0",
            "_view_count": null,
            "_view_module_version": "1.2.0",
            "bar_color": null,
            "_model_module": "@jupyter-widgets/controls"
          }
        },
        "a85c2b0d95cb4ec39d8637bf98393372": {
          "model_module": "@jupyter-widgets/base",
          "model_name": "LayoutModel",
          "state": {
            "_view_name": "LayoutView",
            "grid_template_rows": null,
            "right": null,
            "justify_content": null,
            "_view_module": "@jupyter-widgets/base",
            "overflow": null,
            "_model_module_version": "1.2.0",
            "_view_count": null,
            "flex_flow": null,
            "width": null,
            "min_width": null,
            "border": null,
            "align_items": null,
            "bottom": null,
            "_model_module": "@jupyter-widgets/base",
            "top": null,
            "grid_column": null,
            "overflow_y": null,
            "overflow_x": null,
            "grid_auto_flow": null,
            "grid_area": null,
            "grid_template_columns": null,
            "flex": null,
            "_model_name": "LayoutModel",
            "justify_items": null,
            "grid_row": null,
            "max_height": null,
            "align_content": null,
            "visibility": null,
            "align_self": null,
            "height": null,
            "min_height": null,
            "padding": null,
            "grid_auto_rows": null,
            "grid_gap": null,
            "max_width": null,
            "order": null,
            "_view_module_version": "1.2.0",
            "grid_template_areas": null,
            "object_position": null,
            "object_fit": null,
            "grid_auto_columns": null,
            "margin": null,
            "display": null,
            "left": null
          }
        },
        "c214821ec4294977a204a4814a8f5474": {
          "model_module": "@jupyter-widgets/controls",
          "model_name": "DescriptionStyleModel",
          "state": {
            "_view_name": "StyleView",
            "_model_name": "DescriptionStyleModel",
            "description_width": "",
            "_view_module": "@jupyter-widgets/base",
            "_model_module_version": "1.5.0",
            "_view_count": null,
            "_view_module_version": "1.2.0",
            "_model_module": "@jupyter-widgets/controls"
          }
        },
        "62ef960e1bdc4da7a51764814e8c4e7e": {
          "model_module": "@jupyter-widgets/base",
          "model_name": "LayoutModel",
          "state": {
            "_view_name": "LayoutView",
            "grid_template_rows": null,
            "right": null,
            "justify_content": null,
            "_view_module": "@jupyter-widgets/base",
            "overflow": null,
            "_model_module_version": "1.2.0",
            "_view_count": null,
            "flex_flow": null,
            "width": null,
            "min_width": null,
            "border": null,
            "align_items": null,
            "bottom": null,
            "_model_module": "@jupyter-widgets/base",
            "top": null,
            "grid_column": null,
            "overflow_y": null,
            "overflow_x": null,
            "grid_auto_flow": null,
            "grid_area": null,
            "grid_template_columns": null,
            "flex": null,
            "_model_name": "LayoutModel",
            "justify_items": null,
            "grid_row": null,
            "max_height": null,
            "align_content": null,
            "visibility": null,
            "align_self": null,
            "height": null,
            "min_height": null,
            "padding": null,
            "grid_auto_rows": null,
            "grid_gap": null,
            "max_width": null,
            "order": null,
            "_view_module_version": "1.2.0",
            "grid_template_areas": null,
            "object_position": null,
            "object_fit": null,
            "grid_auto_columns": null,
            "margin": null,
            "display": null,
            "left": null
          }
        }
      }
    }
  },
  "cells": [
    {
      "cell_type": "markdown",
      "metadata": {
        "id": "view-in-github",
        "colab_type": "text"
      },
      "source": [
        "<a href=\"https://colab.research.google.com/github/soyoung96/deep-classifier-resnet50/blob/main/ResNet.ipynb\" target=\"_parent\"><img src=\"https://colab.research.google.com/assets/colab-badge.svg\" alt=\"Open In Colab\"/></a>"
      ]
    },
    {
      "cell_type": "code",
      "metadata": {
        "id": "jIGkZRXikHyB"
      },
      "source": [
        "#import package\n",
        "import torch\n",
        "import torch.nn as nn\n",
        "import torch.nn.functional as F\n",
        "from torchsummary import summary\n",
        "from torch import optim\n",
        "from torch.optim.lr_scheduler import StepLR\n",
        "\n",
        "from torchvision import datasets\n",
        "import torchvision.transforms as transforms\n",
        "from torch.utils.data import DataLoader\n",
        "import os\n",
        "\n",
        "from torchvision import utils\n",
        "import matplotlib.pyplot as plt\n",
        "%matplotlib inline\n",
        "\n",
        "import numpy as np"
      ],
      "execution_count": 2,
      "outputs": []
    },
    {
      "cell_type": "code",
      "metadata": {
        "colab": {
          "base_uri": "https://localhost:8080/",
          "height": 153,
          "referenced_widgets": [
            "27a66802e12d4c6da0e250ce29a54ab3",
            "e27d2563f74f477cbdd4a2581ae2b1cf",
            "189560dfce974005bbb5ce33609e4ccd",
            "fb89291dcff64846b5b5d83988babe86",
            "90e61913049d4536b8bb5329423db817",
            "a85c2b0d95cb4ec39d8637bf98393372",
            "c214821ec4294977a204a4814a8f5474",
            "62ef960e1bdc4da7a51764814e8c4e7e"
          ]
        },
        "id": "Jaa7ou_v_7Xv",
        "outputId": "9ed95288-ce8c-444d-de90-05c837800928"
      },
      "source": [
        "path2data = 'data'\n",
        "\n",
        "\n",
        "train_ds = datasets.STL10(path2data,split='train',download =True,\n",
        "                         transform=transforms.ToTensor())\n",
        "val_ds = datasets.STL10(path2data,split='test',download =True,\n",
        "                         transform=transforms.ToTensor())\n",
        "\n",
        "print(len(train_ds))\n",
        "print(len(val_ds))\n",
        "\n"
      ],
      "execution_count": 3,
      "outputs": [
        {
          "output_type": "stream",
          "text": [
            "Downloading http://ai.stanford.edu/~acoates/stl10/stl10_binary.tar.gz to data/stl10_binary.tar.gz\n"
          ],
          "name": "stdout"
        },
        {
          "output_type": "display_data",
          "data": {
            "application/vnd.jupyter.widget-view+json": {
              "model_id": "27a66802e12d4c6da0e250ce29a54ab3",
              "version_minor": 0,
              "version_major": 2
            },
            "text/plain": [
              "HBox(children=(FloatProgress(value=0.0, max=2640397119.0), HTML(value='')))"
            ]
          },
          "metadata": {
            "tags": []
          }
        },
        {
          "output_type": "stream",
          "text": [
            "\n",
            "Extracting data/stl10_binary.tar.gz to data\n",
            "Files already downloaded and verified\n",
            "5000\n",
            "8000\n"
          ],
          "name": "stdout"
        }
      ]
    },
    {
      "cell_type": "code",
      "metadata": {
        "colab": {
          "base_uri": "https://localhost:8080/"
        },
        "id": "1twnoo3JCzdn",
        "outputId": "7574d41c-c6d3-4f20-b788-58a3e050488f"
      },
      "source": [
        "train_ds[0]"
      ],
      "execution_count": 4,
      "outputs": [
        {
          "output_type": "execute_result",
          "data": {
            "text/plain": [
              "(tensor([[[0.5725, 0.5725, 0.5725,  ..., 0.6353, 0.6353, 0.6353],\n",
              "          [0.5725, 0.5725, 0.5725,  ..., 0.6392, 0.6392, 0.6392],\n",
              "          [0.5725, 0.5725, 0.5725,  ..., 0.6431, 0.6431, 0.6431],\n",
              "          ...,\n",
              "          [0.5098, 0.5176, 0.4588,  ..., 0.5373, 0.5882, 0.5529],\n",
              "          [0.5255, 0.6078, 0.3451,  ..., 0.5294, 0.5333, 0.5373],\n",
              "          [0.5294, 0.3804, 0.4549,  ..., 0.5412, 0.5765, 0.5412]],\n",
              " \n",
              "         [[0.5608, 0.5608, 0.5608,  ..., 0.6235, 0.6235, 0.6235],\n",
              "          [0.5608, 0.5608, 0.5608,  ..., 0.6196, 0.6196, 0.6196],\n",
              "          [0.5608, 0.5608, 0.5608,  ..., 0.6196, 0.6196, 0.6196],\n",
              "          ...,\n",
              "          [0.4471, 0.4667, 0.4078,  ..., 0.5176, 0.5412, 0.4784],\n",
              "          [0.4627, 0.5529, 0.2902,  ..., 0.5137, 0.4863, 0.4706],\n",
              "          [0.4667, 0.3255, 0.4078,  ..., 0.4980, 0.5333, 0.5020]],\n",
              " \n",
              "         [[0.4314, 0.4314, 0.4314,  ..., 0.4941, 0.4941, 0.4941],\n",
              "          [0.4314, 0.4314, 0.4314,  ..., 0.4941, 0.4941, 0.4941],\n",
              "          [0.4314, 0.4314, 0.4314,  ..., 0.4941, 0.4941, 0.4941],\n",
              "          ...,\n",
              "          [0.3176, 0.2667, 0.2157,  ..., 0.4118, 0.5373, 0.4549],\n",
              "          [0.3490, 0.3765, 0.1294,  ..., 0.4235, 0.4706, 0.3882],\n",
              "          [0.4314, 0.2549, 0.2784,  ..., 0.4667, 0.4784, 0.3647]]]), 1)"
            ]
          },
          "metadata": {
            "tags": []
          },
          "execution_count": 4
        }
      ]
    },
    {
      "cell_type": "code",
      "metadata": {
        "colab": {
          "base_uri": "https://localhost:8080/"
        },
        "id": "GtkWoOn3BXV1",
        "outputId": "0d72973b-d3c7-4676-803e-03cfa8cde472"
      },
      "source": [
        "#RGB mean,std of train set\n",
        "train_meanRGB=[np.mean(x.numpy(),axis=(1,2)) for x,_ in train_ds] # RGBmean list by sample\n",
        "train_stdRGB=[np.std(x.numpy(),axis=(1,2)) for x,_ in train_ds] # RGBstd list by sample\n",
        "'''\n",
        "about axis =>\n",
        "http://taewan.kim/post/numpy_sum_axis/\n",
        "\n",
        "'''\n",
        "\n",
        "\n",
        "'''\n",
        "train_meanRGB=[array([0.5199615 , 0.47785485, 0.34138668], dtype=float32),\n",
        " array([0.54801244, 0.49918514, 0.3546922 ], dtype=float32),\n",
        " array([0.35330972, 0.476511  , 0.32713312], dtype=float32),\n",
        " array([0.28504393, 0.18103725, 0.06127664], dtype=float32),...]\n",
        "\n",
        "'''\n",
        "train_meanR = np.mean([m[0] for m in train_meanRGB])\n",
        "train_meanG = np.mean([m[1] for m in train_meanRGB])\n",
        "train_meanB = np.mean([m[2] for m in train_meanRGB])\n",
        "\n",
        "train_stdR = np.mean([s[0] for s in train_stdRGB])\n",
        "train_stdG = np.mean([s[1] for s in train_stdRGB])\n",
        "train_stdB = np.mean([s[2] for s in train_stdRGB])\n",
        "\n",
        "\n",
        "#RGB mean,std of validation set\n",
        "val_meanRGB = [np.std(x.numpy(),axis=(1,2)) for x,_ in val_ds]\n",
        "val_stdRGB=[np.std(x.numpy(),axis=(1,2)) for x,_ in val_ds]\n",
        "\n",
        "val_meanR = np.mean([m[0] for m in train_meanRGB])\n",
        "val_meanG = np.mean([m[1] for m in train_meanRGB])\n",
        "val_meanB = np.mean([m[2] for m in train_meanRGB])\n",
        "\n",
        "val_stdR = np.mean([s[0] for s in val_stdRGB])\n",
        "val_stdG = np.mean([s[1] for s in val_stdRGB])\n",
        "val_stdB = np.mean([s[2] for s in val_stdRGB])\n",
        "\n",
        "print(train_meanR,train_meanG,train_meanB)\n",
        "print(val_meanR,val_meanG,val_meanB)\n",
        "\n",
        "\n"
      ],
      "execution_count": 5,
      "outputs": [
        {
          "output_type": "stream",
          "text": [
            "0.4467106 0.43980986 0.40664646\n",
            "0.4467106 0.43980986 0.40664646\n"
          ],
          "name": "stdout"
        }
      ]
    },
    {
      "cell_type": "code",
      "metadata": {
        "id": "7ZFjdOsPD8Kx"
      },
      "source": [
        "#set transforms\n",
        "train_transformation = transforms.Compose([\n",
        "                                           transforms.ToTensor(),\n",
        "                                           transforms.Resize(224),\n",
        "                                           transforms.Normalize([train_meanR,train_meanG,\n",
        "                                                                train_meanG],\n",
        "                                                               [train_stdR,train_stdG,\n",
        "                                                                train_stdB]),\n",
        "                                           transforms.RandomHorizontalFlip()])\n",
        "\n",
        "val_transformation = transforms.Compose([\n",
        "                                           transforms.ToTensor(),\n",
        "                                           transforms.Resize(224),\n",
        "                                           transforms.Normalize([val_meanR,val_meanG,\n",
        "                                                                val_meanG],\n",
        "                                                               [val_stdR,val_stdG,\n",
        "                                                                val_stdB]),\n",
        "                                           transforms.RandomHorizontalFlip()])"
      ],
      "execution_count": 12,
      "outputs": []
    },
    {
      "cell_type": "code",
      "metadata": {
        "id": "F6SitOw-D-6U"
      },
      "source": [
        "# apply transforamtion\n",
        "train_ds.transform = train_transformation\n",
        "val_ds.transform = val_transformation\n",
        "\n",
        "# create DataLoader\n",
        "train_dl = DataLoader(train_ds,batch_size = 32,shuffle=True)\n",
        "val_dl = DataLoader(val_ds,batch_size = 32,shuffle = True)"
      ],
      "execution_count": 14,
      "outputs": []
    },
    {
      "cell_type": "code",
      "metadata": {
        "colab": {
          "base_uri": "https://localhost:8080/",
          "height": 203
        },
        "id": "YrB6GgPclpRV",
        "outputId": "df5e4903-da0a-4ec0-bf2c-a455217cfa9c"
      },
      "source": [
        "#display img data\n",
        "def show(img,y= None,color= True):\n",
        "  npimg= img.numpy()\n",
        "  npimg_tr = np.transpose(npimg,(1,2,0)) #regular form (1,2,0)\n",
        "  plt.imshow(npimg_tr)\n",
        "\n",
        "  if y is not None:\n",
        "    plt.title('labels:' + str(y))\n",
        "\n",
        "np.random.seed(1)\n",
        "torch.manual_seed(1)\n",
        "\n",
        "grid_size =4\n",
        "rnd_inds =np.random.randint(0,len(train_ds),grid_size)\n",
        "print('image indices: ',rnd_inds)\n",
        "\n",
        "x_grid = [train_ds[i][0] for i in rnd_inds]\n",
        "y_grid = [train_ds[i][1] for i in rnd_inds]\n",
        "\n",
        "x_grid = utils.make_grid(x_grid,nrow=grid_size,padding =2)\n",
        "\n",
        "show(x_grid,y_grid)"
      ],
      "execution_count": 20,
      "outputs": [
        {
          "output_type": "stream",
          "text": [
            "Clipping input data to the valid range for imshow with RGB data ([0..1] for floats or [0..255] for integers).\n"
          ],
          "name": "stderr"
        },
        {
          "output_type": "stream",
          "text": [
            "image indices:  [ 235 3980  905 2763]\n"
          ],
          "name": "stdout"
        },
        {
          "output_type": "display_data",
          "data": {
            "image/png": "[encoded data removed]",
            "text/plain": [
              "<Figure size 432x288 with 1 Axes>"
            ]
          },
          "metadata": {
            "tags": [],
            "needs_background": "light"
          }
        }
      ]
    },
    {
      "cell_type": "code",
      "metadata": {
        "id": "_G7t0G6HqATY"
      },
      "source": [
        "class BasicBlock(nn.Module):\n",
        "  expansion =1 #class variable\n",
        "  def __init__(self,in_channels,out_channels,stride =1):\n",
        "    super().__init__()\n",
        "\n",
        "    self.residual_function=nn.Sequential(\n",
        "        nn.Conv2d(in_channnels,out_channels,kernel_size = 3,\n",
        "                  stride =stride,padding =1 ,bias=False), #bias=Flase because of BN\n",
        "        nn.BatchNorm2d(out_channels),\n",
        "        nn.ReLU(),\n",
        "        nn.Conv2d(out_channels,out_channels * BasicBlock.expansion,kernel_size =3,stride = 1,\n",
        "                  padding =1,bias = False),\n",
        "        nn.BatchNorm2d(out_channels * BasicBlock.expansion)\n",
        "    )\n",
        "    # case of input ch == out ch and input feature map size == output feature map size\n",
        "    self.shortcut = nn.Seqential() # nothing\n",
        "    self.relu = nn.ReLU()\n",
        "\n",
        "    # case of input ch != out ch\n",
        "    if stride != 1 or in_channels != out_channels * BasicBlock.expansion :\n",
        "      self.shortchut = nn.Sequential(nn.Conv2d(in_channels,out_channels * BasicBlock.expansion,\n",
        "                                               kernel_size =1,stride =stride,bias=False),\n",
        "                                     nn.BatchNorm2d(out_channels * BasicBlock.expansion))\n",
        "      \n",
        "  def forward(self,x):\n",
        "    x= self.residual_function(x) + self.shortcut(x)\n",
        "    x = self.relu(x) #not pre activation\n",
        "    return x\n"
      ],
      "execution_count": 21,
      "outputs": []
    },
    {
      "cell_type": "code",
      "metadata": {
        "id": "A8ss0HCh-3np"
      },
      "source": [
        "class BottleNeck(nn.Module):\n",
        "  expansion =4\n",
        "  def __init__(self,in_channels,out_channels,stride =1):\n",
        "    super().__init__()\n",
        "\n",
        "    self.residual_function=nn.Sequential(\n",
        "        nn.Conv2d(in_channnels,out_channels,kernel_size = 1,\n",
        "                  stride =1 ,bias=False), #bias=Flase because of BN\n",
        "        nn.BatchNorm2d(out_channels),\n",
        "        nn.ReLU(),\n",
        "        nn.Conv2d(out_channels,out_channels,kernel_size =3,stride = 1,\n",
        "                  padding =1,bias = False),\n",
        "        nn.BatchNorm2d(out_channels),\n",
        "        nn.ReLU(),\n",
        "        nn.Conv2d(in_channels,out_channels*BottleNeck.expansion,kernel_size=1,\n",
        "                  stride = 1,bias = False),\n",
        "        nn.BatchNorm2d(out_channels*BottleNeck.expansion)\n",
        "    )\n",
        "    # case of input ch == out ch and input feature map size == output feature map size\n",
        "    self.shortcut = nn.Seqential() # nothing\n",
        "    self.relu = nn.ReLU()\n",
        "\n",
        "    # case of input ch != out ch\n",
        "    if stride != 1 or in_channels != out_channels * BasicBlock.expansion :\n",
        "      self.shortchut = nn.Sequential(nn.Conv2d(in_channels,out_channels * BottleNeck.expansion,\n",
        "                                               kernel_size =1,stride =stride,bias=False),\n",
        "                                     nn.BatchNorm2d(out_channels * BasicBlock.expansion))\n",
        "      \n",
        "  def forward(self,x):\n",
        "    x= self.residual_function(x) + self.shortcut(x)\n",
        "    x = self.relu(x) #not pre activation\n",
        "    return x"
      ],
      "execution_count": 24,
      "outputs": []
    },
    {
      "cell_type": "markdown",
      "metadata": {
        "id": "md0jYXrdCIaq"
      },
      "source": [
        ""
      ]
    },
    {
      "cell_type": "code",
      "metadata": {
        "id": "-M7IId8UCWBF"
      },
      "source": [
        "class ResNet(nn.Module):\n",
        "  def __init__(self,block,num_block,num_classes = 10,\n",
        "               init_weight=True):\n",
        "    super().__init__()\n",
        "\n",
        "    self.in_channels = 64\n",
        "\n",
        "    self.conv1 = nn.Sequential(\n",
        "        nn.Conv2d(3,64,kernel_size=7,stride =2,padding=3,bias=False),\n",
        "        nn.batchNorm2d(64),\n",
        "        nn.ReLU(),\n",
        "        nn.MaxPool2d(kernel_size=3,stride=2,padding=1)\n",
        "    )\n",
        "\n",
        "\n",
        "    # at every conv_x, only 1st elt layer has 2 stride s.t stride\n",
        "    # reduce feature map size ,the other has 1 stride \n",
        "    self.conv2_x=self._make_layer(block,64,num_block[0],1)\n",
        "    self.conv3_x = self._make_layer(block,128,num_block[1],2)\n",
        "    self.conv4_x = self._make_layer(block,256,num_block[2],2)\n",
        "    self.conv5_x = self._make_layer(block,512,num_block[3],2)\n",
        "\n",
        "    self.avg_pool = nn.AdaptAvergpoo2d((1,1))\n",
        "\n",
        "    self.fc = nn.Linear(512* block.expansion,num_classes)\n",
        "    \n",
        "\n",
        "    #weight initialize\n",
        "    if init_weights:\n",
        "      self.initialize_weights()\n",
        "\n",
        "  def _make_layer(self,block,out_channels,num_blocks,stride):\n",
        "    strides = [stride] + [1] * (num_block -1)\n",
        "    layers = []\n",
        "    for stride in strides:\n",
        "      layers.append(block(self.in_channels,out_channels,stride))\n",
        "      self.in_channels = out\n",
        "\n",
        "\n",
        "\n",
        "\n"
      ],
      "execution_count": null,
      "outputs": []
    },
    {
      "cell_type": "code",
      "metadata": {
        "colab": {
          "base_uri": "https://localhost:8080/"
        },
        "id": "qSYZwdzgCWKZ",
        "outputId": "5b0ad4ea-c777-4254-d145-9e1fa586e321"
      },
      "source": [
        "[2] +[1] *3"
      ],
      "execution_count": 27,
      "outputs": [
        {
          "output_type": "execute_result",
          "data": {
            "text/plain": [
              "[2, 1, 1, 1]"
            ]
          },
          "metadata": {
            "tags": []
          },
          "execution_count": 27
        }
      ]
    },
    {
      "cell_type": "code",
      "metadata": {
        "id": "psInKN25CWNf"
      },
      "source": [
        ""
      ],
      "execution_count": null,
      "outputs": []
    },
    {
      "cell_type": "code",
      "metadata": {
        "id": "iyhLsYcDCWQq"
      },
      "source": [
        ""
      ],
      "execution_count": null,
      "outputs": []
    }
  ]
}