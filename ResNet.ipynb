{
  "nbformat": 4,
  "nbformat_minor": 0,
  "metadata": {
    "accelerator": "GPU",
    "colab": {
      "name": "ResNet.ipynb",
      "provenance": [],
      "collapsed_sections": [],
      "authorship_tag": "ABX9TyNczKNqn7FYbuoirMxPSqgg",
      "include_colab_link": true
    },
    "kernelspec": {
      "display_name": "Python 3",
      "name": "python3"
    },
    "language_info": {
      "name": "python"
    }
  },
  "cells": [
    {
      "cell_type": "markdown",
      "metadata": {
        "id": "view-in-github",
        "colab_type": "text"
      },
      "source": [
        "<a href=\"https://colab.research.google.com/github/soyoung96/deep-classifier-resnet50/blob/main/ResNet.ipynb\" target=\"_parent\"><img src=\"https://colab.research.google.com/assets/colab-badge.svg\" alt=\"Open In Colab\"/></a>"
      ]
    },
    {
      "cell_type": "code",
      "metadata": {
        "id": "jIGkZRXikHyB"
      },
      "source": [
        "#import package\n",
        "import torch\n",
        "import torch.nn as nn\n",
        "import torch.nn.functional as F\n",
        "from torchsummary import summary\n",
        "from torch import optim\n",
        "from torch.optim.lr_scheduler import StepLR\n",
        "\n",
        "from torchvision import datasets\n",
        "import torchvision.transforms as transforms\n",
        "from torch.utils.data import DataLoader\n",
        "import os\n",
        "\n",
        "from torchvision import utils\n",
        "import matplotlib.pyplot as plt\n",
        "%matplotlib inline\n",
        "\n",
        "import numpy as np"
      ],
      "execution_count": null,
      "outputs": []
    },
    {
      "cell_type": "code",
      "metadata": {
        "colab": {
          "base_uri": "https://localhost:8080/"
        },
        "id": "Jaa7ou_v_7Xv",
        "outputId": "f8236e2c-283e-46e8-e945-8d9371dd521f"
      },
      "source": [
        "path2data = 'data'\n",
        "\n",
        "\n",
        "train_ds = datasets.STL10(path2data,split='train',download =True,\n",
        "                         transform=transforms.ToTensor())\n",
        "val_ds = datasets.STL10(path2data,split='test',download =True,\n",
        "                         transform=transforms.ToTensor())\n",
        "\n",
        "print(len(train_ds))\n",
        "print(len(val_ds))\n",
        "\n"
      ],
      "execution_count": null,
      "outputs": [
        {
          "output_type": "stream",
          "text": [
            "Files already downloaded and verified\n",
            "Files already downloaded and verified\n",
            "5000\n",
            "8000\n"
          ],
          "name": "stdout"
        }
      ]
    },
    {
      "cell_type": "code",
      "metadata": {
        "colab": {
          "base_uri": "https://localhost:8080/"
        },
        "id": "1twnoo3JCzdn",
        "outputId": "0a9d2ab5-a4bb-4db2-aeef-9dd799f20040"
      },
      "source": [
        "train_ds[0]"
      ],
      "execution_count": null,
      "outputs": [
        {
          "output_type": "execute_result",
          "data": {
            "text/plain": [
              "(tensor([[[0.5725, 0.5725, 0.5725,  ..., 0.6353, 0.6353, 0.6353],\n",
              "          [0.5725, 0.5725, 0.5725,  ..., 0.6392, 0.6392, 0.6392],\n",
              "          [0.5725, 0.5725, 0.5725,  ..., 0.6431, 0.6431, 0.6431],\n",
              "          ...,\n",
              "          [0.5098, 0.5176, 0.4588,  ..., 0.5373, 0.5882, 0.5529],\n",
              "          [0.5255, 0.6078, 0.3451,  ..., 0.5294, 0.5333, 0.5373],\n",
              "          [0.5294, 0.3804, 0.4549,  ..., 0.5412, 0.5765, 0.5412]],\n",
              " \n",
              "         [[0.5608, 0.5608, 0.5608,  ..., 0.6235, 0.6235, 0.6235],\n",
              "          [0.5608, 0.5608, 0.5608,  ..., 0.6196, 0.6196, 0.6196],\n",
              "          [0.5608, 0.5608, 0.5608,  ..., 0.6196, 0.6196, 0.6196],\n",
              "          ...,\n",
              "          [0.4471, 0.4667, 0.4078,  ..., 0.5176, 0.5412, 0.4784],\n",
              "          [0.4627, 0.5529, 0.2902,  ..., 0.5137, 0.4863, 0.4706],\n",
              "          [0.4667, 0.3255, 0.4078,  ..., 0.4980, 0.5333, 0.5020]],\n",
              " \n",
              "         [[0.4314, 0.4314, 0.4314,  ..., 0.4941, 0.4941, 0.4941],\n",
              "          [0.4314, 0.4314, 0.4314,  ..., 0.4941, 0.4941, 0.4941],\n",
              "          [0.4314, 0.4314, 0.4314,  ..., 0.4941, 0.4941, 0.4941],\n",
              "          ...,\n",
              "          [0.3176, 0.2667, 0.2157,  ..., 0.4118, 0.5373, 0.4549],\n",
              "          [0.3490, 0.3765, 0.1294,  ..., 0.4235, 0.4706, 0.3882],\n",
              "          [0.4314, 0.2549, 0.2784,  ..., 0.4667, 0.4784, 0.3647]]]), 1)"
            ]
          },
          "metadata": {
            "tags": []
          },
          "execution_count": 31
        }
      ]
    },
    {
      "cell_type": "code",
      "metadata": {
        "colab": {
          "base_uri": "https://localhost:8080/"
        },
        "id": "GtkWoOn3BXV1",
        "outputId": "437bf6eb-8d0c-4d95-a7a0-c4a7ac935b4b"
      },
      "source": [
        "#RGB mean,std of train set\n",
        "train_meanRGB=[np.mean(x.numpy(),axis=(1,2)) for x,_ in train_ds] # RGBmean list by sample\n",
        "train_stdRGB=[np.std(x.numpy(),axis=(1,2)) for x,_ in train_ds] # RGBstd list by sample\n",
        "'''\n",
        "about axis =>\n",
        "http://taewan.kim/post/numpy_sum_axis/\n",
        "\n",
        "'''\n",
        "\n",
        "\n",
        "'''\n",
        "train_meanRGB=[array([0.5199615 , 0.47785485, 0.34138668], dtype=float32),\n",
        " array([0.54801244, 0.49918514, 0.3546922 ], dtype=float32),\n",
        " array([0.35330972, 0.476511  , 0.32713312], dtype=float32),\n",
        " array([0.28504393, 0.18103725, 0.06127664], dtype=float32),...]\n",
        "\n",
        "'''\n",
        "train_meanR = np.mean([m[0] for m in train_meanRGB])\n",
        "train_meanG = np.mean([m[1] for m in train_meanRGB])\n",
        "train_meanB = np.mean([m[2] for m in train_meanRGB])\n",
        "\n",
        "train_stdR = np.mean([s[0] for s in train_stdRGB])\n",
        "train_stdG = np.mean([s[1] for s in train_stdRGB])\n",
        "train_stdB = np.mean([s[2] for s in train_stdRGB])\n",
        "\n",
        "\n",
        "#RGB mean,std of validation set\n",
        "val_meanRGB = [np.std(x.numpy(),axis=(1,2)) for x,_ in val_ds]\n",
        "val_stdRGB=[np.std(x.numpy(),axis=(1,2)) for x,_ in val_ds]\n",
        "\n",
        "val_meanR = np.mean([m[0] for m in train_meanRGB])\n",
        "val_meanG = np.mean([m[1] for m in train_meanRGB])\n",
        "val_meanB = np.mean([m[2] for m in train_meanRGB])\n",
        "\n",
        "val_stdR = np.mean([s[0] for s in val_stdRGB])\n",
        "val_stdG = np.mean([s[1] for s in val_stdRGB])\n",
        "val_stdB = np.mean([s[2] for s in val_stdRGB])\n",
        "\n",
        "print(train_meanR,train_meanG,train_meanB)\n",
        "print(val_meanR,val_meanG,val_meanB)\n",
        "\n",
        "\n"
      ],
      "execution_count": null,
      "outputs": [
        {
          "output_type": "stream",
          "text": [
            "0.4467106 0.43980986 0.40664646\n",
            "0.4467106 0.43980986 0.40664646\n"
          ],
          "name": "stdout"
        }
      ]
    },
    {
      "cell_type": "code",
      "metadata": {
        "id": "7ZFjdOsPD8Kx"
      },
      "source": [
        "#set transforms\n",
        "train_transformation = transforms.Compose([\n",
        "                                           transforms.ToTensor(),\n",
        "                                           transforms.Resize(224),\n",
        "                                           transforms.Normalize([train_meanR,train_meanG,\n",
        "                                                                train_meanB],\n",
        "                                                               [train_stdR,train_stdG,\n",
        "                                                                train_stdB]),\n",
        "                                           transforms.RandomHorizontalFlip()])\n",
        "\n",
        "val_transformation = transforms.Compose([\n",
        "                                           transforms.ToTensor(),\n",
        "                                           transforms.Resize(224),\n",
        "                                           transforms.Normalize([val_meanR,val_meanG,\n",
        "                                                                val_meanB],\n",
        "                                                               [val_stdR,val_stdG,\n",
        "                                                                val_stdB]),\n",
        "                                           ])"
      ],
      "execution_count": null,
      "outputs": []
    },
    {
      "cell_type": "code",
      "metadata": {
        "id": "F6SitOw-D-6U"
      },
      "source": [
        "# apply transforamtion\n",
        "train_ds.transform = train_transformation\n",
        "val_ds.transform = val_transformation\n",
        "\n",
        "# create DataLoader\n",
        "train_dl = DataLoader(train_ds,batch_size = 32,shuffle=True)\n",
        "val_dl = DataLoader(val_ds,batch_size = 32,shuffle = True)"
      ],
      "execution_count": null,
      "outputs": []
    },
    {
      "cell_type": "code",
      "metadata": {
        "colab": {
          "base_uri": "https://localhost:8080/",
          "height": 203
        },
        "id": "YrB6GgPclpRV",
        "outputId": "c948cb19-f875-4948-a0dc-ef37db825540"
      },
      "source": [
        "#display img data\n",
        "def show(img,y= None,color= True):\n",
        "  npimg= img.numpy()\n",
        "  npimg_tr = np.transpose(npimg,(1,2,0)) #regular form (1,2,0)\n",
        "  plt.imshow(npimg_tr)\n",
        "\n",
        "  if y is not None:\n",
        "    plt.title('labels:' + str(y))\n",
        "\n",
        "np.random.seed(1)\n",
        "torch.manual_seed(1)\n",
        "\n",
        "grid_size =4\n",
        "rnd_inds =np.random.randint(0,len(train_ds),grid_size)\n",
        "print('image indices: ',rnd_inds)\n",
        "\n",
        "x_grid = [train_ds[i][0] for i in rnd_inds]\n",
        "y_grid = [train_ds[i][1] for i in rnd_inds]\n",
        "\n",
        "x_grid = utils.make_grid(x_grid,nrow=grid_size,padding =2)\n",
        "\n",
        "show(x_grid,y_grid)"
      ],
      "execution_count": null,
      "outputs": [
        {
          "output_type": "stream",
          "text": [
            "Clipping input data to the valid range for imshow with RGB data ([0..1] for floats or [0..255] for integers).\n"
          ],
          "name": "stderr"
        },
        {
          "output_type": "stream",
          "text": [
            "image indices:  [ 235 3980  905 2763]\n"
          ],
          "name": "stdout"
        },
        {
          "output_type": "display_data",
          "data": {
            "image/png": "[encoded data removed]",
            "text/plain": [
              "<Figure size 432x288 with 1 Axes>"
            ]
          },
          "metadata": {
            "tags": [],
            "needs_background": "light"
          }
        }
      ]
    },
    {
      "cell_type": "code",
      "metadata": {
        "id": "_G7t0G6HqATY"
      },
      "source": [
        "class BasicBlock(nn.Module):\n",
        "  expansion =1 #class variable\n",
        "  def __init__(self,in_channels,out_channels,stride =1):\n",
        "    super().__init__()\n",
        "\n",
        "    self.residual_function=nn.Sequential(\n",
        "        nn.Conv2d(in_channnels,out_channels,kernel_size = 3,\n",
        "                  stride =stride,padding =1 ,bias=False), #bias=Flase because of BN\n",
        "        nn.BatchNorm2d(out_channels),\n",
        "        nn.ReLU(),\n",
        "        nn.Conv2d(out_channels,out_channels * BasicBlock.expansion,kernel_size =3,stride = 1,\n",
        "                  padding =1,bias = False),\n",
        "        nn.BatchNorm2d(out_channels * BasicBlock.expansion)\n",
        "    )\n",
        "    # case of input ch == out ch and input feature map size == output feature map size\n",
        "    self.shortcut = nn.Seqential() # nothing\n",
        "    self.relu = nn.ReLU()\n",
        "\n",
        "    # case of input ch != out ch\n",
        "    if stride != 1 or in_channels != out_channels * BasicBlock.expansion :\n",
        "      self.shortchut = nn.Sequential(nn.Conv2d(in_channels,out_channels * BasicBlock.expansion,\n",
        "                                               kernel_size =1,stride =stride,bias=False),\n",
        "                                     nn.BatchNorm2d(out_channels * BasicBlock.expansion))\n",
        "      \n",
        "  def forward(self,x):\n",
        "    x= self.residual_function(x) + self.shortcut(x)\n",
        "    x = self.relu(x) #not pre activation\n",
        "    return x\n"
      ],
      "execution_count": null,
      "outputs": []
    },
    {
      "cell_type": "code",
      "metadata": {
        "id": "A8ss0HCh-3np"
      },
      "source": [
        "class BottleNeck(nn.Module):\n",
        "  expansion =4\n",
        "  def __init__(self,in_channels,out_channels,stride =1):\n",
        "    super().__init__()\n",
        "\n",
        "    self.residual_function=nn.Sequential(\n",
        "        nn.Conv2d(in_channels,out_channels,kernel_size = 1,\n",
        "                  stride =1 ,bias=False), #bias=Flase because of BN\n",
        "        nn.BatchNorm2d(out_channels),\n",
        "        nn.ReLU(),\n",
        "        nn.Conv2d(out_channels,out_channels,kernel_size =3,stride = stride,\n",
        "                  padding =1,bias = False),\n",
        "        nn.BatchNorm2d(out_channels),\n",
        "        nn.ReLU(),\n",
        "        nn.Conv2d(out_channels,out_channels*BottleNeck.expansion,kernel_size=1,\n",
        "                  stride = 1,bias = False),\n",
        "        nn.BatchNorm2d(out_channels*BottleNeck.expansion)\n",
        "    )\n",
        "    # case of input ch == out ch and input feature map size == output feature map size\n",
        "    self.shortcut = nn.Sequential() # nothing\n",
        "    self.relu = nn.ReLU()\n",
        "\n",
        "    # case of input ch != out ch\n",
        "    if stride != 1 or in_channels != out_channels * BottleNeck.expansion :\n",
        "      self.shortcut = nn.Sequential(nn.Conv2d(in_channels,out_channels * BottleNeck.expansion,\n",
        "                                               kernel_size =1,stride =stride,bias=False),\n",
        "                                     nn.BatchNorm2d(out_channels * BottleNeck.expansion))\n",
        "      \n",
        "  def forward(self,x):\n",
        "    x= self.residual_function(x) + self.shortcut(x)\n",
        "    x = self.relu(x) #not pre activation\n",
        "    return x"
      ],
      "execution_count": null,
      "outputs": []
    },
    {
      "cell_type": "markdown",
      "metadata": {
        "id": "md0jYXrdCIaq"
      },
      "source": [
        ""
      ]
    },
    {
      "cell_type": "code",
      "metadata": {
        "id": "-M7IId8UCWBF"
      },
      "source": [
        "class ResNet(nn.Module):\n",
        "  def __init__(self,block,num_block,num_classes = 10,\n",
        "               init_weights=True):\n",
        "    super().__init__()\n",
        "\n",
        "    self.in_channels = 64\n",
        "\n",
        "    self.conv1 = nn.Sequential(\n",
        "        nn.Conv2d(3,64,kernel_size=7,stride =2,padding=3,bias=False),\n",
        "        nn.BatchNorm2d(64),\n",
        "        nn.ReLU(),\n",
        "        nn.MaxPool2d(kernel_size=3,stride=2,padding=1)\n",
        "    )\n",
        "\n",
        "\n",
        "    # at every conv_x, only 1st elt layer has 2 stride s.t stride\n",
        "    # reduce feature map size ,the other has 1 stride \n",
        "    self.conv2_x=self._make_layer(block,64,num_block[0],1)\n",
        "    self.conv3_x = self._make_layer(block,128,num_block[1],2)\n",
        "    self.conv4_x = self._make_layer(block,256,num_block[2],2)\n",
        "    self.conv5_x = self._make_layer(block,512,num_block[3],2)\n",
        "\n",
        "    self.avg_pool = nn.AdaptiveAvgPool2d((1,1))\n",
        "\n",
        "    self.fc = nn.Linear(512* block.expansion,num_classes)\n",
        "    \n",
        "    # weights inittialization\n",
        "    if init_weights:\n",
        "      self._initialize_weights()\n",
        "\n",
        "\n",
        "  def _make_layer(self,block,out_channels,num_blocks,stride):\n",
        "    strides = [stride] + [1] * (num_blocks -1)\n",
        "    layers = []\n",
        "    for stride in strides:\n",
        "      # out_channels == 1st elt layer's out_channels\n",
        "      layers.append(block(self.in_channels,out_channels,stride))\n",
        "      self.in_channels = out_channels * block.expansion\n",
        "\n",
        "    return nn.Sequential(*layers)\n",
        "\n",
        "  def forward(self,x):\n",
        "    x = self.conv1(x)\n",
        "    x = self.conv2_x(x)\n",
        "    x = self.conv3_x(x)\n",
        "    x = self.conv4_x(x)\n",
        "    x = self.conv5_x(x)\n",
        "\n",
        "    x = self.avg_pool(x)\n",
        "    x = x.reshape(x.shape[0],-1)\n",
        "    x = self.fc(x)\n",
        "\n",
        "    return x\n",
        "\n",
        "  def _initialize_weights(self):\n",
        "    for m in self.modules():\n",
        "      if isinstance(m, nn.Conv2d):\n",
        "        nn.init.kaiming_normal_(m.weight, mode='fan_out', nonlinearity='relu')\n",
        "        if m.bias is not None:\n",
        "          nn.init.constant_(m.bias, 0)\n",
        "      elif isinstance(m, nn.BatchNorm2d):\n",
        "        nn.init.constant_(m.weight, 1)\n",
        "        nn.init.constant_(m.bias, 0)\n",
        "      elif isinstance(m, nn.Linear):\n",
        "        nn.init.normal_(m.weight, 0, 0.01)\n",
        "        nn.init.constant_(m.bias, 0)\n",
        "\n",
        "    \n"
      ],
      "execution_count": null,
      "outputs": []
    },
    {
      "cell_type": "code",
      "metadata": {
        "id": "qSYZwdzgCWKZ"
      },
      "source": [
        "def resnet18():\n",
        "  return ResNet(BasicBlock,[2,2,2,2])\n",
        "\n",
        "def resnet34():\n",
        "  return ResNet(BasicBlock,[3,4,6,3])\n",
        "\n",
        "def resnet50():\n",
        "  return ResNet(BottleNeck,[3,4,6,3])\n",
        "\n",
        "def resnet101():\n",
        "  return ResNet(BottleNeck,[3,4,23,3])\n",
        "\n",
        "def resnet152():\n",
        "  return ResNet(BottleNeck,[3,8,36,3])\n",
        " "
      ],
      "execution_count": null,
      "outputs": []
    },
    {
      "cell_type": "code",
      "metadata": {
        "id": "psInKN25CWNf"
      },
      "source": [
        "device = torch.device(\"cuda\" if torch.cuda.is_available() else \"cpu\")\n"
      ],
      "execution_count": null,
      "outputs": []
    },
    {
      "cell_type": "code",
      "metadata": {
        "id": "iyhLsYcDCWQq"
      },
      "source": [
        "model = resnet50().to(device)"
      ],
      "execution_count": null,
      "outputs": []
    },
    {
      "cell_type": "code",
      "metadata": {
        "id": "w2Z0gGgTP1f7"
      },
      "source": [
        "loss_ftn = nn.CrossEntropyLoss(reduction = \"sum\")\n",
        "opt = optim.Adam(model.parameters(),lr=0.001)\n",
        "\n",
        "# https://deep-deep-deep.tistory.com/56\n",
        "from torch.optim.lr_scheduler import ReduceLROnPlateau\n",
        "lr_scheduler = ReduceLROnPlateau(opt,mode = 'min',factor =0.1,patience=10)"
      ],
      "execution_count": null,
      "outputs": []
    },
    {
      "cell_type": "code",
      "metadata": {
        "id": "p0oIrLwMRCCm"
      },
      "source": [
        "# function to get current lr\n",
        "def get_lr(opt):\n",
        "  for param_group in opt.param_groups:\n",
        "    return param_group['lr']"
      ],
      "execution_count": null,
      "outputs": []
    },
    {
      "cell_type": "code",
      "metadata": {
        "id": "WUPsZ3zGb7I3"
      },
      "source": [
        "#corrects per mini batch\n",
        "def metric_batch(output,target):\n",
        "  pred = output.argmax(1,keepdim =True)\n",
        "  corrects = pred.eq(target.view_as(pred)).sum().item()\n",
        "  return corrects\n",
        "\n",
        "\n",
        "#loss,corrects per mini batch\n",
        "def loss_batch(loss_ftn,output,target,opt=None):\n",
        "  loss = loss_ftn(output,target)\n",
        "  metric_b = metric_batch(output,target)\n",
        "\n",
        "  if opt is not None: # train # if opt not,then test of valildation set\n",
        "    opt.zero_grad()\n",
        "    loss.backward()\n",
        "    opt.step()\n",
        "\n",
        "  return loss.item(),metric_b"
      ],
      "execution_count": null,
      "outputs": []
    },
    {
      "cell_type": "code",
      "metadata": {
        "id": "xRsnAdnbb84a"
      },
      "source": [
        "def loss_epoch(model,loss_ftn,dataset_dl,sanity_check = False,opt=None):\n",
        "  running_loss = 0.\n",
        "  running_metric=0.\n",
        "  len_data = len(dataset_dl.dataset)\n",
        "\n",
        "  for xb,yb in dataset_dl:\n",
        "    xb=xb.to(device)\n",
        "    yb = yb.to(device)\n",
        "    output = model(xb)\n",
        "\n",
        "    loss_b,metric_b = loss_batch(loss_ftn,output,yb,opt)\n",
        "    running_loss += loss_b\n",
        "\n",
        "    if metric_b is not None:\n",
        "      running_metric += metric_b\n",
        "\n",
        "    if sanity_check is True:\n",
        "      break\n",
        "    \n",
        "  loss = running_loss/len_data\n",
        "  metric = running_metric/len_data\n",
        "\n",
        "  return loss,metric\n",
        "\n"
      ],
      "execution_count": null,
      "outputs": []
    },
    {
      "cell_type": "code",
      "metadata": {
        "id": "MH41RY1GespP"
      },
      "source": [
        "def train_val(model,params):\n",
        "  num_epochs = params[\"num_epochs\"]\n",
        "  loss_ftn = params['loss_ftn']\n",
        "  opt = params[\"optimizer\"]\n",
        "  train_dl =params[\"train_dl\"]\n",
        "  val_dl = params[\"val_dl\"]\n",
        "  sanity_check = params[\"sanity_check\"]\n",
        "  lr_scheduler = params[\"lr_scheduler\"]\n",
        "\n",
        "  loss_history = {\"train\":[], \"val\":[]}\n",
        "  metric_history={\"train\":[],\"val\":[]}\n",
        "\n",
        "  best_loss = float('inf')\n",
        "\n",
        "\n",
        "\n",
        "  for epoch in range(num_epochs):\n",
        "    current_lr = get_lr(opt)\n",
        "    print('Epoch {}/{} current lr={}'.format(epoch+1,num_epochs,current_lr))\n",
        "\n",
        "    model.train()\n",
        "\n",
        "    #train per epoch\n",
        "    train_loss,train_metric = loss_epoch(model,loss_ftn,train_dl,sanity_check,opt)\n",
        "    loss_history['train'].append(train_loss)\n",
        "    metric_history['train'].append(train_metric)\n",
        "\n",
        "    # eval per epoch\n",
        "    model.eval()\n",
        "    with torch.no_grad():\n",
        "      val_loss,val_metric = loss_epoch(model,loss_ftn,val_dl,sanity_check)\n",
        "      loss_history['val'].append(val_loss)\n",
        "      metric_history['val'].append(val_metric)\n",
        "\n",
        "    if val_loss < best_loss:\n",
        "      best_loss = val_loss\n",
        "      print('Get best val_loss')\n",
        "\n",
        "    lr_scheduler.step(val_loss)\n",
        "\n",
        "    print('train loss: {:.6f}, val loss: {:.6f}, accuracy: {:.2f}'.format(\n",
        "        train_loss,val_loss,100*val_metric\n",
        "    ))\n",
        "\n",
        "  \n",
        "  \n",
        "  return model,loss_history,metric_history\n",
        "\n"
      ],
      "execution_count": null,
      "outputs": []
    },
    {
      "cell_type": "code",
      "metadata": {
        "id": "kdIWUUQ0e8zD"
      },
      "source": [
        "params_train={\n",
        "    'num_epochs':20,\n",
        "    'optimizer':opt,\n",
        "    'loss_ftn':loss_ftn,\n",
        "    'train_dl':train_dl,\n",
        "    \"val_dl\":val_dl,\n",
        "    'sanity_check':False,\n",
        "    'lr_scheduler':lr_scheduler,\n",
        "  \n",
        "\n",
        "}\n"
      ],
      "execution_count": null,
      "outputs": []
    },
    {
      "cell_type": "code",
      "metadata": {
        "colab": {
          "base_uri": "https://localhost:8080/"
        },
        "id": "h9mYRHZGv7li",
        "outputId": "8162ce31-56a5-4ea7-e450-501f17d1c73f"
      },
      "source": [
        "model,loss_hist,metric_hist = train_val(model,params_train)"
      ],
      "execution_count": null,
      "outputs": [
        {
          "output_type": "stream",
          "text": [
            "Epoch 1/20 current lr=0.001\n",
            "Get best val_loss\n",
            "train loss: 1.977581, val loss: 37.098612, accuracy: 20.24\n",
            "Epoch 2/20 current lr=0.001\n",
            "Get best val_loss\n",
            "train loss: 1.757167, val loss: 1.729488, accuracy: 32.52\n",
            "Epoch 3/20 current lr=0.001\n",
            "Get best val_loss\n",
            "train loss: 1.618480, val loss: 1.567189, accuracy: 39.84\n",
            "Epoch 4/20 current lr=0.001\n",
            "Get best val_loss\n",
            "train loss: 1.512958, val loss: 1.449543, accuracy: 43.29\n",
            "Epoch 5/20 current lr=0.001\n",
            "train loss: 1.412606, val loss: 1.526809, accuracy: 45.11\n",
            "Epoch 6/20 current lr=0.001\n",
            "train loss: 1.335742, val loss: 1.770467, accuracy: 37.57\n",
            "Epoch 7/20 current lr=0.001\n",
            "Get best val_loss\n",
            "train loss: 1.236190, val loss: 1.440186, accuracy: 47.66\n",
            "Epoch 8/20 current lr=0.001\n",
            "Get best val_loss\n",
            "train loss: 1.183230, val loss: 1.404960, accuracy: 49.46\n",
            "Epoch 9/20 current lr=0.001\n",
            "Get best val_loss\n",
            "train loss: 1.138552, val loss: 1.382525, accuracy: 50.32\n",
            "Epoch 10/20 current lr=0.001\n",
            "train loss: 1.042667, val loss: 1.426003, accuracy: 53.73\n",
            "Epoch 11/20 current lr=0.001\n",
            "Get best val_loss\n",
            "train loss: 0.998360, val loss: 1.108785, accuracy: 60.36\n",
            "Epoch 12/20 current lr=0.001\n",
            "train loss: 0.945504, val loss: 1.336655, accuracy: 54.81\n",
            "Epoch 13/20 current lr=0.001\n",
            "Get best val_loss\n",
            "train loss: 0.898151, val loss: 1.067082, accuracy: 60.92\n",
            "Epoch 14/20 current lr=0.001\n",
            "train loss: 0.842041, val loss: 1.137333, accuracy: 60.72\n",
            "Epoch 15/20 current lr=0.001\n",
            "train loss: 0.811636, val loss: 1.269444, accuracy: 56.14\n",
            "Epoch 16/20 current lr=0.001\n",
            "train loss: 0.750565, val loss: 1.094698, accuracy: 62.59\n",
            "Epoch 17/20 current lr=0.001\n",
            "train loss: 0.707489, val loss: 1.263671, accuracy: 59.15\n",
            "Epoch 18/20 current lr=0.001\n",
            "train loss: 0.633221, val loss: 1.113600, accuracy: 63.38\n",
            "Epoch 19/20 current lr=0.001\n",
            "train loss: 0.580567, val loss: 1.317581, accuracy: 60.84\n",
            "Epoch 20/20 current lr=0.001\n",
            "train loss: 0.583536, val loss: 1.351924, accuracy: 59.15\n"
          ],
          "name": "stdout"
        }
      ]
    },
    {
      "cell_type": "code",
      "metadata": {
        "id": "u45KGbd-wULp"
      },
      "source": [
        ""
      ],
      "execution_count": null,
      "outputs": []
    }
  ]
}